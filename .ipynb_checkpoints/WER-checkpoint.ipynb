{
 "cells": [
  {
   "cell_type": "code",
   "execution_count": 1,
   "id": "3663d800-e0e9-4a18-ab1b-b38ffec1b7d6",
   "metadata": {},
   "outputs": [],
   "source": [
    "import jiwer\n",
    "import pickle"
   ]
  },
  {
   "cell_type": "code",
   "execution_count": 31,
   "id": "d962d646-fe01-441d-a2fa-967bc028848c",
   "metadata": {},
   "outputs": [],
   "source": [
    "transforms = jiwer.Compose(\n",
    "    [\n",
    "        jiwer.ExpandCommonEnglishContractions(),\n",
    "        jiwer.RemoveEmptyStrings(),\n",
    "        jiwer.ToLowerCase(),\n",
    "        jiwer.RemoveMultipleSpaces(),\n",
    "        jiwer.Strip(),\n",
    "        jiwer.RemovePunctuation(),\n",
    "        jiwer.ReduceToListOfListOfWords(),\n",
    "    ]\n",
    ")"
   ]
  },
  {
   "cell_type": "code",
   "execution_count": 4,
   "id": "295c7b70-e4c1-4f96-a514-c4f096fa3008",
   "metadata": {},
   "outputs": [],
   "source": [
    "with open(\"datasets/fiv2.pkl\", \"rb\") as handle:\n",
    "    data = pickle.load(handle)"
   ]
  },
  {
   "cell_type": "code",
   "execution_count": 5,
   "id": "14f19f2f-7e96-411b-b97e-a6c0568e2576",
   "metadata": {},
   "outputs": [],
   "source": [
    "train_data = data[\"train\"]\n",
    "with open(\"transcription_training.pkl\", \"rb\") as handle:\n",
    "    reference_train = pickle.load(handle, encoding='latin1')"
   ]
  },
  {
   "cell_type": "code",
   "execution_count": null,
   "id": "e5c8c288-9428-454d-a9dc-7370d20691e5",
   "metadata": {},
   "outputs": [],
   "source": [
    "dev_data = data[\"dev\"]\n",
    "with open(\"transcription_validation.pkl\", \"rb\") as handle:\n",
    "    reference_dev = pickle.load(handle, encoding='latin1')"
   ]
  },
  {
   "cell_type": "code",
   "execution_count": null,
   "id": "4333f17f-aca3-488a-a9d6-a8ee8f849175",
   "metadata": {},
   "outputs": [],
   "source": [
    "test_data = data[\"test\"]\n",
    "with open(\"transcription_test.pkl\", \"rb\") as handle:\n",
    "    reference_test = pickle.load(handle, encoding='latin1')"
   ]
  },
  {
   "cell_type": "code",
   "execution_count": 43,
   "id": "59019632-5db6-4123-bd6d-6b8939cfdb65",
   "metadata": {},
   "outputs": [
    {
     "name": "stdout",
     "output_type": "stream",
     "text": [
      "[TRAIN] WER: 0.5468493136236625, accuracy: 45.31506863763375%\n"
     ]
    }
   ],
   "source": [
    "train_wer = []\n",
    "\n",
    "for (word, _, _), _, segment in train_data:\n",
    "    hypothesis = \" \".join([str(w) for w in word])\n",
    "    assert segment+\".mp4\" in reference_train\n",
    "    reference = reference_train[segment+\".mp4\"]\n",
    "    if len(reference) == 0:\n",
    "        continue\n",
    "    wer = jiwer.wer(\n",
    "                reference,\n",
    "                hypothesis,\n",
    "                truth_transform=transforms,\n",
    "                hypothesis_transform=transforms,\n",
    "            )\n",
    "    train_wer.append(wer)\n",
    "\n",
    "print(f'[TRAIN] WER: {sum(train_wer) / len(train_wer)}, accuracy: {(1 - sum(train_wer) / len(train_wer))*100}%')"
   ]
  },
  {
   "cell_type": "code",
   "execution_count": 42,
   "id": "d7e78cf4-e993-42a7-a867-a13402a7d877",
   "metadata": {},
   "outputs": [
    {
     "ename": "NameError",
     "evalue": "name 'dev_data' is not defined",
     "output_type": "error",
     "traceback": [
      "\u001b[0;31m---------------------------------------------------------------------------\u001b[0m",
      "\u001b[0;31mNameError\u001b[0m                                 Traceback (most recent call last)",
      "Cell \u001b[0;32mIn[42], line 3\u001b[0m\n\u001b[1;32m      1\u001b[0m dev_wer \u001b[38;5;241m=\u001b[39m []\n\u001b[0;32m----> 3\u001b[0m \u001b[38;5;28;01mfor\u001b[39;00m (word, _, _), _, segment \u001b[38;5;129;01min\u001b[39;00m \u001b[43mdev_data\u001b[49m:\n\u001b[1;32m      4\u001b[0m     hypothesis \u001b[38;5;241m=\u001b[39m \u001b[38;5;124m\"\u001b[39m\u001b[38;5;124m \u001b[39m\u001b[38;5;124m\"\u001b[39m\u001b[38;5;241m.\u001b[39mjoin([\u001b[38;5;28mstr\u001b[39m(w) \u001b[38;5;28;01mfor\u001b[39;00m w \u001b[38;5;129;01min\u001b[39;00m word])\n\u001b[1;32m      5\u001b[0m     reference \u001b[38;5;241m=\u001b[39m reference_train\u001b[38;5;241m.\u001b[39mget(segment\u001b[38;5;241m+\u001b[39m\u001b[38;5;124m\"\u001b[39m\u001b[38;5;124m.mp4\u001b[39m\u001b[38;5;124m\"\u001b[39m, \u001b[38;5;124m\"\u001b[39m\u001b[38;5;124m\"\u001b[39m)\n",
      "\u001b[0;31mNameError\u001b[0m: name 'dev_data' is not defined"
     ]
    }
   ],
   "source": [
    "dev_wer = []\n",
    "\n",
    "for (word, _, _), _, segment in dev_data:\n",
    "    hypothesis = \" \".join([str(w) for w in word])\n",
    "    assert segment+\".mp4\" in reference_train\n",
    "    reference = reference_train[segment+\".mp4\"]\n",
    "    if len(reference) == 0:\n",
    "        continue\n",
    "    wer = jiwer.wer(\n",
    "                reference,\n",
    "                hypothesis,\n",
    "            )\n",
    "    dev_wer.append(wer)\n",
    "\n",
    "print(f'[DEV] WER: {sum(dev_wer) / len(dev_wer)}, accuracy: {(1 - sum(dev_wer) / len(dev_wer))*100}%')"
   ]
  },
  {
   "cell_type": "code",
   "execution_count": null,
   "id": "dee726e7-6906-4d53-8653-321660e15f41",
   "metadata": {},
   "outputs": [],
   "source": [
    "test_wer = []\n",
    "\n",
    "for (word, _, _), _, segment in test_data:\n",
    "    hypothesis = \" \".join([str(w) for w in word])\n",
    "    assert segment+\".mp4\" in reference_train\n",
    "    reference = reference_train[segment+\".mp4\"]\n",
    "    if len(reference) == 0:\n",
    "        continue\n",
    "    wer = jiwer.wer(\n",
    "                reference,\n",
    "                hypothesis,\n",
    "                truth_transform=transforms,\n",
    "                hypothesis_transform=transforms,\n",
    "            )\n",
    "    test_wer.append(wer)\n",
    "\n",
    "print(f'[TEST] WER: {sum(test_wer) / len(test_wer)}, accuracy: {(1 - sum(test_wer) / len(test_wer))*100}%')"
   ]
  }
 ],
 "metadata": {
  "kernelspec": {
   "display_name": "Python 3 (ipykernel)",
   "language": "python",
   "name": "python3"
  },
  "language_info": {
   "codemirror_mode": {
    "name": "ipython",
    "version": 3
   },
   "file_extension": ".py",
   "mimetype": "text/x-python",
   "name": "python",
   "nbconvert_exporter": "python",
   "pygments_lexer": "ipython3",
   "version": "3.11.6"
  }
 },
 "nbformat": 4,
 "nbformat_minor": 5
}
