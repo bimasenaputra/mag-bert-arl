{
 "cells": [
  {
   "cell_type": "code",
   "execution_count": 1,
   "id": "326b6178-57d0-437d-80e8-90e108bd20f6",
   "metadata": {},
   "outputs": [],
   "source": [
    "import pandas as pd\n",
    "import numpy as np\n",
    "import os\n",
    "import ast"
   ]
  },
  {
   "cell_type": "code",
   "execution_count": 2,
   "id": "05e3ef69-f6c3-4586-a414-946dbcd1939d",
   "metadata": {},
   "outputs": [
    {
     "data": {
      "text/plain": [
       "0    [0.266977, 0.545247, -0.794625, 0.040729, 0.51...\n",
       "1    [0.2670715, 0.5488470000000001, -0.792099, 0.0...\n",
       "2    [0.27448100000000003, 0.5337489999999999, -0.7...\n",
       "3    [0.26104, 0.5193365, -0.8137179999999999, 0.03...\n",
       "4    [0.28621566666666665, 0.4919006666666667, -0.8...\n",
       "Name: visual, dtype: object"
      ]
     },
     "execution_count": 2,
     "metadata": {},
     "output_type": "execute_result"
    }
   ],
   "source": [
    "visual_dir = \"~/first-impression/txt-dev/openface.csv\"\n",
    "visual_dir = os.path.expanduser(visual_dir)\n",
    "visual = pd.read_csv(visual_dir)\n",
    "visual['visual'].head()"
   ]
  },
  {
   "cell_type": "code",
   "execution_count": 3,
   "id": "acd35be1-3e2a-4e9b-9aed-a5a111132c9d",
   "metadata": {},
   "outputs": [],
   "source": [
    "# Preprocess strings to handle NaN values\n",
    "def preprocess_string(s):\n",
    "    try:\n",
    "        return ast.literal_eval(s)\n",
    "    except (ValueError, SyntaxError, AttributeError):\n",
    "        return None"
   ]
  },
  {
   "cell_type": "code",
   "execution_count": 5,
   "id": "731c1832-8154-493d-bdcb-197e73159696",
   "metadata": {},
   "outputs": [
    {
     "data": {
      "text/plain": [
       "0    [0.266977, 0.545247, -0.794625, 0.040729, 0.51...\n",
       "1    [0.2670715, 0.5488470000000001, -0.792099, 0.0...\n",
       "2    [0.27448100000000003, 0.5337489999999999, -0.7...\n",
       "3    [0.26104, 0.5193365, -0.8137179999999999, 0.03...\n",
       "4    [0.28621566666666665, 0.4919006666666667, -0.8...\n",
       "Name: visual, dtype: object"
      ]
     },
     "execution_count": 5,
     "metadata": {},
     "output_type": "execute_result"
    }
   ],
   "source": [
    "visual['visual'] = visual['visual'].apply(preprocess_string)\n",
    "visual['visual'].head()"
   ]
  },
  {
   "cell_type": "code",
   "execution_count": 6,
   "id": "50954a90-cb35-45f3-af1c-5a764d411b05",
   "metadata": {
    "scrolled": true
   },
   "outputs": [
    {
     "name": "stdout",
     "output_type": "stream",
     "text": [
      "visual\n",
      "<class 'list'>        92150\n",
      "<class 'NoneType'>       95\n",
      "Name: count, dtype: int64\n"
     ]
    }
   ],
   "source": [
    "datatype_counts = visual['visual'].apply(type).value_counts()\n",
    "\n",
    "print(datatype_counts)"
   ]
  },
  {
   "cell_type": "code",
   "execution_count": 7,
   "id": "635deac2-4e6f-4fac-bddc-49c641b066f9",
   "metadata": {},
   "outputs": [
    {
     "name": "stdout",
     "output_type": "stream",
     "text": [
      "visual\n",
      "709    92150\n",
      "0         95\n",
      "Name: count, dtype: int64\n"
     ]
    }
   ],
   "source": [
    "datatype_counts = visual['visual'].apply(lambda x: len(x) if isinstance(x, list) else 0).value_counts()\n",
    "\n",
    "print(datatype_counts)"
   ]
  },
  {
   "cell_type": "code",
   "execution_count": 9,
   "id": "49c5bc3c-ba1a-4514-a470-1fbb501f1e1d",
   "metadata": {},
   "outputs": [
    {
     "data": {
      "text/plain": [
       "0    [0.0, 0.0, 0.0, 0.0, 0.0, 0.0, 0.14, 0.0, 0.6,...\n",
       "1    [0.0, 0.0, 0.03, 0.0, 0.0, 0.0, 0.11, 0.0, 0.5...\n",
       "2    [0.01, 0.0, 0.26333332, 0.0, 0.006666667, 0.04...\n",
       "3    [0.03, 0.0, 0.56, 0.0, 0.035, 0.245, 0.0, 0.00...\n",
       "4    [0.03, 0.096666664, 0.5966667, 0.0, 0.09, 0.56...\n",
       "Name: action_unit, dtype: object"
      ]
     },
     "execution_count": 9,
     "metadata": {},
     "output_type": "execute_result"
    }
   ],
   "source": [
    "def split_visual_column(segmented_data):\n",
    "    gaze = []\n",
    "    facial_landmarks = []\n",
    "    action_unit = []\n",
    "    # Replace problematic rows with the list from the previous or next row\n",
    "    for i, value in enumerate(segmented_data['visual']):\n",
    "        try:\n",
    "            gaze.append(np.array(value[:8+56*5], dtype=np.float32))\n",
    "            facial_landmarks.append(np.array(value[8+56*5:8+56*5+6+68*5+40], dtype=np.float32))\n",
    "            action_unit.append(np.array(value[8+56*5+6+68*5+40:], dtype=np.float32))\n",
    "        except:\n",
    "            gaze.append(None)\n",
    "            facial_landmarks.append(None)\n",
    "            action_unit.append(None)\n",
    "    return gaze, facial_landmarks, action_unit\n",
    "\n",
    "gaze, facial_landmarks, action_unit = split_visual_column(visual)\n",
    "visual['gaze'] = gaze\n",
    "visual['facial_landmark'] = facial_landmarks\n",
    "visual['action_unit'] = action_unit\n",
    "\n",
    "visual['action_unit'].head()"
   ]
  },
  {
   "cell_type": "code",
   "execution_count": 10,
   "id": "b6e75a07-31c5-40f5-94b5-126f4260212a",
   "metadata": {},
   "outputs": [
    {
     "name": "stdout",
     "output_type": "stream",
     "text": [
      "action_unit\n",
      "<class 'numpy.ndarray'>    92150\n",
      "<class 'NoneType'>            95\n",
      "Name: count, dtype: int64\n"
     ]
    }
   ],
   "source": [
    "datatype_counts = visual['action_unit'].apply(type).value_counts()\n",
    "\n",
    "print(datatype_counts)"
   ]
  },
  {
   "cell_type": "code",
   "execution_count": 12,
   "id": "fbd72c9c-f708-4681-81b7-e75358448ff8",
   "metadata": {},
   "outputs": [
    {
     "name": "stdout",
     "output_type": "stream",
     "text": [
      "action_unit\n",
      "(35,)    92150\n",
      "0           95\n",
      "Name: count, dtype: int64\n"
     ]
    }
   ],
   "source": [
    "datatype_counts = visual['action_unit'].apply(lambda x: x.shape if isinstance(x, np.ndarray) else 0).value_counts()\n",
    "\n",
    "print(datatype_counts)"
   ]
  },
  {
   "cell_type": "code",
   "execution_count": 125,
   "id": "4cfcef6f-0d18-47c5-baf8-4c566904f058",
   "metadata": {},
   "outputs": [
    {
     "data": {
      "text/plain": [
       "VideoID\n",
       "-6otZ7M-Mro.003    [[20.703983, 0.0018311196, 20.672487, 20.69632...\n",
       "-6otZ7M-Mro.005    [[22.989721, 0.023344595, 22.52284, 22.651133,...\n",
       "-8asrRvfJWA.001    [[32.0135, 0.0038038702, 31.99397, 32.04822, 3...\n",
       "-9BZ8A9U7TE.002    [[48.35585, 0.003518914, 48.20473, 48.29195, 4...\n",
       "-AmMDnVl4s8.001    [[0.0, 0.0, 0.0, 0.0, 0.0, 0.0, 0.0, 0.0, 0.0,...\n",
       "Name: acoustic_np, dtype: object"
      ]
     },
     "execution_count": 125,
     "metadata": {},
     "output_type": "execute_result"
    }
   ],
   "source": [
    "visual['VideoID'] = acoustic['SegmentedBaseName'].str.extract(r'(.*)_segment_\\d+')\n",
    "visual_list = segmented_data.groupby('VideoID')['action_unit'].apply(list)\n",
    "\n",
    "visual_list.head()"
   ]
  },
  {
   "cell_type": "code",
   "execution_count": 142,
   "id": "677e7cb0-d92a-4282-ac58-b50a3942f624",
   "metadata": {},
   "outputs": [],
   "source": [
    "# Function to replace NaNs with element-wise average in a numpy array\n",
    "def replace_nans_with_avg(row):\n",
    "    masked_row = []\n",
    "    for i in range(len(row)):\n",
    "        if type(row[i]) is np.ndarray:\n",
    "            masked_row.append(row[i])\n",
    "            \n",
    "    masked_row = np.array(masked_row, dtype=np.float32)\n",
    "    average = np.average(masked_row, axis=0)\n",
    "    \n",
    "    # Replace NaNs with corresponding averages\n",
    "    for i in range(len(row)):\n",
    "        if type(row[i]) is float:\n",
    "            row[i] = average\n",
    "                \n",
    "    return row"
   ]
  },
  {
   "cell_type": "code",
   "execution_count": 143,
   "id": "73aa388a-2e85-4f8e-b632-c13de276ee56",
   "metadata": {},
   "outputs": [
    {
     "data": {
      "text/plain": [
       "0    [[20.703983, 0.0018311196, 20.672487, 20.69632...\n",
       "1    [[22.989721, 0.023344595, 22.52284, 22.651133,...\n",
       "2    [[32.0135, 0.0038038702, 31.99397, 32.04822, 3...\n",
       "3    [[48.35585, 0.003518914, 48.20473, 48.29195, 4...\n",
       "4    [[0.0, 0.0, 0.0, 0.0, 0.0, 0.0, 0.0, 0.0, 0.0,...\n",
       "Name: acoustic_np, dtype: object"
      ]
     },
     "execution_count": 143,
     "metadata": {},
     "output_type": "execute_result"
    }
   ],
   "source": [
    "acoustic_np = acoustic_list.reset_index()\n",
    "# Apply the function to each element of the column \n",
    "acoustic_np['acoustic_np'] = acoustic_np['acoustic_np'].apply(lambda x: replace_nans_with_avg(x))\n",
    "\n",
    "acoustic_np['acoustic_np'].head()"
   ]
  },
  {
   "cell_type": "code",
   "execution_count": 61,
   "id": "49cf29f8-e568-45d3-bff8-800dcd286baf",
   "metadata": {},
   "outputs": [
    {
     "data": {
      "text/plain": [
       "0    [35.63478, 0.011104753, 35.34182, 35.80483, 35...\n",
       "1    [35.191692, 0.005509247, 35.029175, 35.25186, ...\n",
       "2    [41.460136, 0.07766185, 37.682922, 42.688736, ...\n",
       "3    [35.7021, 0.017157597, 35.05126, 35.891663, 36...\n",
       "4    [39.22027, 0.0054359366, 39.095097, 39.249043,...\n",
       "Name: acoustic_np, dtype: object"
      ]
     },
     "execution_count": 61,
     "metadata": {},
     "output_type": "execute_result"
    }
   ],
   "source": [
    "acoustic['acoustic_np'].head()"
   ]
  },
  {
   "cell_type": "code",
   "execution_count": 146,
   "id": "9e1d77da-088f-4c65-ba9a-0eb7ddd4af97",
   "metadata": {},
   "outputs": [
    {
     "name": "stdout",
     "output_type": "stream",
     "text": [
      "[[0 1]\n",
      " [2 3]\n",
      " [4 5]]\n",
      "[2. 3.]\n"
     ]
    }
   ],
   "source": [
    "data = np.arange(6).reshape((3, 2))\n",
    "print(data)\n",
    "print(np.average(data, axis=0))"
   ]
  },
  {
   "cell_type": "code",
   "execution_count": 71,
   "id": "2cceb634-cc62-44b7-80af-12f54a06cbc5",
   "metadata": {},
   "outputs": [
    {
     "name": "stdout",
     "output_type": "stream",
     "text": [
      "acoustic_np\n",
      "<class 'list'>    2000\n",
      "Name: count, dtype: int64\n"
     ]
    }
   ],
   "source": [
    "datatype_counts = acoustic['acoustic_np'].apply(type).value_counts()\n",
    "\n",
    "print(datatype_counts)"
   ]
  },
  {
   "cell_type": "code",
   "execution_count": 141,
   "id": "8363882d-d4a9-4ae9-8e84-07487f0ce40c",
   "metadata": {},
   "outputs": [
    {
     "name": "stdout",
     "output_type": "stream",
     "text": [
      "NO NAN\n"
     ]
    }
   ],
   "source": [
    "for row in acoustic_np['acoustic_np']:\n",
    "    for i in range(len(row)):\n",
    "        if type(row[i]) is float:\n",
    "            print(row[i])\n",
    "            break\n",
    "print(\"NO NAN\")"
   ]
  },
  {
   "cell_type": "code",
   "execution_count": 150,
   "id": "235c13bd-bd5c-49a4-a981-3f0a3a3f107c",
   "metadata": {},
   "outputs": [
    {
     "name": "stdout",
     "output_type": "stream",
     "text": [
      "acoustic_np\n",
      "(88,)    86660\n",
      "0         5585\n",
      "Name: count, dtype: int64\n"
     ]
    }
   ],
   "source": [
    "datatype_counts = acoustic['acoustic_np'].apply(lambda x: 0 if type(x) is float else x.shape).value_counts()\n",
    "\n",
    "print(datatype_counts)"
   ]
  },
  {
   "cell_type": "code",
   "execution_count": 29,
   "id": "0088e98c-f8c1-4aa6-a65b-1b79653e3e31",
   "metadata": {},
   "outputs": [
    {
     "name": "stdout",
     "output_type": "stream",
     "text": [
      "acoustic_np\n",
      "43     80\n",
      "49     78\n",
      "48     76\n",
      "47     75\n",
      "44     74\n",
      "       ..\n",
      "195     1\n",
      "77      1\n",
      "9       1\n",
      "74      1\n",
      "84      1\n",
      "Name: count, Length: 81, dtype: int64\n"
     ]
    }
   ],
   "source": [
    "datatype_counts = acoustic_list.apply(len).value_counts()\n",
    "\n",
    "print(datatype_counts)"
   ]
  },
  {
   "cell_type": "code",
   "execution_count": null,
   "id": "011378b6-f04d-4979-b808-bb74aeef2154",
   "metadata": {},
   "outputs": [],
   "source": []
  }
 ],
 "metadata": {
  "kernelspec": {
   "display_name": "Python 3 (ipykernel)",
   "language": "python",
   "name": "python3"
  },
  "language_info": {
   "codemirror_mode": {
    "name": "ipython",
    "version": 3
   },
   "file_extension": ".py",
   "mimetype": "text/x-python",
   "name": "python",
   "nbconvert_exporter": "python",
   "pygments_lexer": "ipython3",
   "version": "3.11.6"
  }
 },
 "nbformat": 4,
 "nbformat_minor": 5
}
